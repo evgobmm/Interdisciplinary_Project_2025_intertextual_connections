{
  "cells": [
    {
      "cell_type": "code",
      "execution_count": null,
      "metadata": {
        "colab": {
          "base_uri": "https://localhost:8080/"
        },
        "id": "1OwzUEOTE2H3",
        "outputId": "f3153223-1f1d-4f90-a5a7-a3cc45a85693"
      },
      "outputs": [
        {
          "name": "stdout",
          "output_type": "stream",
          "text": [
            "<class 'pandas.core.frame.DataFrame'>\n",
            "RangeIndex: 99 entries, 1 to 99\n",
            "Columns: 5 entries, author to extra\n",
            "dtypes: int64(1), object(4)\n",
            "Columns: ['author', 'title', 'text', 'word_count', 'extra']\n",
            "Shape: (99, 5)\n",
            "\n",
            "Head (2 rows):\n",
            "             author                title  \\\n",
            "1    Фрейдкин, Марк        Гойка и хайка   \n",
            "2  Улицкая, Людмила  Бедные родственники   \n",
            "\n",
            "                                                                                                                      text  \\\n",
            "1  Когда мама умерла, отец оставался еще вполне себе нестарым сорокашести-летним мужчиной, и года через три у него появ...   \n",
            "2     Двадцать первого числа, если оно не приходилось на воскресенье, в пустоватом проеме между обедом и чаем, к Анне М...   \n",
            "\n",
            "   word_count extra  \n",
            "1       11507   NaN  \n",
            "2       11039   NaN  \n",
            "\n",
            "Tail (2 rows):\n",
            "            author                   title  \\\n",
            "98   Хармс, Даниил  Вываливающиеся старухи   \n",
            "99  Тестовый текст             Метаморфозы   \n",
            "\n",
            "                                                                                                                       text  \\\n",
            "98  Одна старуха от чрезмерного любопытства вывалилась из окна, упала и разбилась.\\nИз окна высунулась другая старуха и ...   \n",
            "99  Прибавились значительно дни. Ярче, прямее стали солнечные лучи и сильно пригревают в полдень. Потемнела полосами бел...   \n",
            "\n",
            "    word_count                                                       extra  \n",
            "98         440                                                         NaN  \n",
            "99        1905  Гойка и Хайка, Бедные родственники, Вываливающиеся старухи  \n",
            "\n",
            "Missing values:\n",
            "author         0\n",
            "title          0\n",
            "text           0\n",
            "word_count     0\n",
            "extra         98\n",
            "dtype: int64\n"
          ]
        }
      ],
      "source": [
        "import pandas as pd\n",
        "\n",
        "# Limit how much is printed\n",
        "pd.set_option(\"display.max_colwidth\", 120)\n",
        "pd.set_option(\"display.max_rows\", 6)\n",
        "\n",
        "# Read Excel (no header, first row is data)\n",
        "df = pd.read_excel(\"99_texts.xlsx\", header=None)\n",
        "\n",
        "# Rename columns\n",
        "df.columns = [\"author\", \"title\", \"text\", \"word_count\", \"extra\"]\n",
        "\n",
        "# Shift index to start from 1 instead of 0\n",
        "df.index = df.index + 1\n",
        "\n",
        "df.info(verbose=False, memory_usage=False)\n",
        "print(\"\\nColumns:\", list(df.columns))\n",
        "print(\"Shape:\", df.shape)\n",
        "print(\"\\nHead (2 rows):\")\n",
        "print(df.head(2))\n",
        "print(\"\\nTail (2 rows):\")\n",
        "print(df.tail(2))\n",
        "print(\"\\nMissing values:\")\n",
        "print(df.isnull().sum())\n"
      ]
    },
    {
      "cell_type": "code",
      "execution_count": 5,
      "metadata": {
        "colab": {
          "base_uri": "https://localhost:8080/"
        },
        "id": "5QXniKoNTDGQ",
        "outputId": "fd76f75a-580b-4d88-87ff-0a25d9cdee8b"
      },
      "outputs": [
        {
          "output_type": "stream",
          "name": "stdout",
          "text": [
            "File with prompt created: my_prompt.txt\n"
          ]
        }
      ],
      "source": [
        "import pandas as pd\n",
        "\n",
        "# Indices of texts to include in the prompt\n",
        "text_indices = [1, 2, 3, 5, 6, 7, 8, 10, 11, 13, 14, 15, 16, 17, 18, 20, 22, 23, 24, 25, 26, 29, 30, 31, 32, 33, 35, 36, 38, 39, 40, 41, 42, 43, 44, 91]\n",
        "\n",
        "\n",
        "\n",
        "# Attempt to load the Excel file without header\n",
        "try:\n",
        "    df_texts = pd.read_excel(\"99_texts.xlsx\", header=None)\n",
        "except FileNotFoundError:\n",
        "    print(\"Error: 99_texts.xlsx not found in the current directory.\")\n",
        "    raise SystemExit\n",
        "except pd.errors.EmptyDataError:\n",
        "    print(\"Error: 99_texts.xlsx is empty or corrupted.\")\n",
        "    raise SystemExit\n",
        "except (pd.errors.ParserError, PermissionError) as e:\n",
        "    print(f\"Error reading Excel file: {e}\")\n",
        "    raise SystemExit\n",
        "\n",
        "# Extract text from the third column (index=2)\n",
        "texts = df_texts[2].tolist()\n",
        "\n",
        "prompt = (\n",
        "    \"Найди в текстах ниже \\\"нетривиальные\\\" интертекстуальные связи. \"\n",
        "    \"\\\"Нетривиальные\\\" означают, что они специфические, небанальные, \"\n",
        "    \"поразительные, как будто бы один переписывал у другого, они должны выглядеть уникальными. Однако будь не очень строг, главное, не потерять интересное.\"\n",
        "    \"От тебя не требуются интерпретации, пояснения. Ты должен только очень четко, с деталями \"\n",
        "    \"(совпадающие или очень похожие слова, образы, ситуации) показывать, в чем состоит связь. \"\n",
        "    \"Если есть одинаковые, похожие слова, приводи соответствующие цитаты. \"\n",
        "    \"Если связь более общая, очень четко определи, в чем она состоит. Повторяю, эта связь должна быть \"\n",
        "    \"настолько близкой, нетривиальной, небанальной, что таких связей между текстами разных авторов обычно не бывает. Хотя повторяю, будь не очень строг.\"\n",
        "    \"Если такую же связь можно провести и с многими другими текстами, на которых ты проходил обучение, о которых ты знаешь, \"\n",
        "    \"то эту связь мы считаем тривиальной и приводить ее здесь не надо. Для каждой связи укажи также \"\n",
        "    \"\\\"уровень преднамеренности\\\" (от 0 до 100). Если такая связь могла у авторов получиться случайно, то значение должно быть \"\n",
        "    \"около 0 (если в литературе такие ходы встречаются довольно часто). Если же детали настолько хорошо соответствуют друг другу, \"\n",
        "    \"и они сами по себе достаточно специфические, поэтому почти наверняка один автор держит в голове текст другого автора, \"\n",
        "    \"когда это пишет, или даже ссылается, то тогда значение должно быть ближе к 100.\\n\"\n",
        "    \"Ничего не выдумывай и перепроверяй. Запрещается использовать какие-либо ссылки или упоминания авторов, их известные произведения, \"\n",
        "    \"цитаты и философские идеи, если они не присутствуют прямо в тексте. Связи должны быть строго выведены из содержания данных текстов.\\n\"\n",
        "    \"Не будь очень строг, если \\\"уровень преднамеренности\\\" не очень высокий, но связь интересная, все равно приводи ее.\\n\"\n",
        "    \"Мне очень важно, чтобы ты выдал мне все интересные связи, ничего не потеряй.\\n\"\n",
        ")\n",
        "\n",
        "for text_number in text_indices:\n",
        "    text_content = texts[text_number - 1]\n",
        "    prompt += f\"\\n\\n<Текст №{text_number} Начало>\\n{text_content}\\n<Текст №{text_number} Конец>\"\n",
        "\n",
        "output_filename = \"my_prompt.txt\"\n",
        "with open(output_filename, \"w\", encoding=\"utf-8\") as f:\n",
        "    f.write(prompt)\n",
        "\n",
        "print(f\"File with prompt created: {output_filename}\")\n"
      ]
    }
  ],
  "metadata": {
    "colab": {
      "provenance": []
    },
    "kernelspec": {
      "display_name": "Python 3",
      "name": "python3"
    },
    "language_info": {
      "name": "python"
    }
  },
  "nbformat": 4,
  "nbformat_minor": 0
}